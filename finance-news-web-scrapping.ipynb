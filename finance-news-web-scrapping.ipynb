{
 "cells": [
  {
   "cell_type": "code",
   "execution_count": 16,
   "id": "6c75f21b",
   "metadata": {},
   "outputs": [],
   "source": [
    "# library\n",
    "\n",
    "import pandas as pd\n",
    "import requests\n",
    "import numpy as np\n",
    "from bs4 import BeautifulSoup as bs"
   ]
  },
  {
   "cell_type": "code",
   "execution_count": 2,
   "id": "f394da93",
   "metadata": {},
   "outputs": [],
   "source": [
    "def get_news_list(item_code, page_no):\n",
    "    # requests 필요한 재료\n",
    "    url = f'https://finance.naver.com/item/news_news.nhn?code={item_code}&page={page_no}&sm=title_entity_id.basic&clusterId='\n",
    "    headers = {'user-agent': 'Mozilla/5.0 (Windows NT 10.0; Win64; x64) AppleWebKit/537.36 (KHTML, like Gecko) Chrome/91.0.4472.114 Safari/537.36'}\n",
    "    \n",
    "    # 스크랩핑해와서 읽어내기\n",
    "    response = requests.get(url, headers=headers)\n",
    "    html = bs(response.text, 'lxml')\n",
    "    temp = html.select(\"table\")\n",
    "    df_news = pd.read_html(str(temp))\n",
    "    \n",
    "    # nan값, 쓸수 없는 컬럼 제거\n",
    "    df_news = df_news[0].dropna()\n",
    "    df_news = df_news.drop(df_news[df_news[\"정보제공\"] == df_news[\"날짜\"]].index)\n",
    "    \n",
    "    return df_news\n",
    "    "
   ]
  },
  {
   "cell_type": "code",
   "execution_count": 3,
   "id": "9209b433",
   "metadata": {},
   "outputs": [],
   "source": [
    "def get_item_news(item_code, item_name):\n",
    "    \n",
    "    # web page 시작번호\n",
    "    page_no = 1\n",
    "    \n",
    "    # 데이터를 저장할 리스트 \n",
    "    news_list = []\n",
    "    \n",
    "    # 리스트에 데이터 저장하기\n",
    "    while True:\n",
    "        temp = get_news_list(item_code, page_no)\n",
    "        news_list.append(temp)\n",
    "        \n",
    "        page_no = page_no + 1\n",
    "        \n",
    "        random_sleep = np.random.uniform(0, 0.5)\n",
    "        time.sleep(random_sleep)\n",
    "        \n",
    "        # 일정 페이지 수 이상 중지\n",
    "        if page_no > 10:\n",
    "            break\n",
    "    \n",
    "    # 종목코드, 종목명 컬럼 추가\n",
    "    df = pd.concat(news_list)\n",
    "    df[\"종목코드\"] = item_code\n",
    "    df[\"종목명\"] = item_name\n",
    "    cols = ['종목코드', '종목명', '제목', '정보제공', '날짜']\n",
    "    df = df[cols]        \n",
    "\n",
    "    return df"
   ]
  },
  {
   "cell_type": "code",
   "execution_count": 17,
   "id": "38bd1eae",
   "metadata": {},
   "outputs": [],
   "source": [
    "def save_csv(df):\n",
    "    # 파일명 만들기\n",
    "    item_code = df.iloc[0][\"종목코드\"]\n",
    "    item_name = df.iloc[0][\"종목명\"]\n",
    "    date = df.iloc[0][\"날짜\"]\n",
    "    date = date.replace(\".\", \"-\")\n",
    "    date = date[:10]\n",
    "    \n",
    "    # 파일명 : 종목명_종목코드_최신뉴스의날짜\n",
    "    filename = f\"{item_name}_{item_code}_{date}.csv\"\n",
    "    \n",
    "    # 저장\n",
    "    df.to_csv(filename, index=False)\n"
   ]
  },
  {
   "cell_type": "code",
   "execution_count": null,
   "id": "f7c8ba6c",
   "metadata": {},
   "outputs": [],
   "source": []
  },
  {
   "cell_type": "code",
   "execution_count": 14,
   "id": "a66b76d5",
   "metadata": {},
   "outputs": [],
   "source": []
  },
  {
   "cell_type": "code",
   "execution_count": 15,
   "id": "2053a080",
   "metadata": {},
   "outputs": [],
   "source": []
  },
  {
   "cell_type": "code",
   "execution_count": null,
   "id": "7957de68",
   "metadata": {},
   "outputs": [],
   "source": []
  }
 ],
 "metadata": {
  "kernelspec": {
   "display_name": "Python 3",
   "language": "python",
   "name": "python3"
  },
  "language_info": {
   "codemirror_mode": {
    "name": "ipython",
    "version": 3
   },
   "file_extension": ".py",
   "mimetype": "text/x-python",
   "name": "python",
   "nbconvert_exporter": "python",
   "pygments_lexer": "ipython3",
   "version": "3.8.8"
  },
  "toc": {
   "base_numbering": 1,
   "nav_menu": {},
   "number_sections": true,
   "sideBar": true,
   "skip_h1_title": false,
   "title_cell": "Table of Contents",
   "title_sidebar": "Contents",
   "toc_cell": false,
   "toc_position": {},
   "toc_section_display": true,
   "toc_window_display": false
  }
 },
 "nbformat": 4,
 "nbformat_minor": 5
}
